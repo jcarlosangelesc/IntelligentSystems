{
 "cells": [
  {
   "cell_type": "markdown",
   "metadata": {
    "button": false,
    "new_sheet": false,
    "run_control": {
     "read_only": false
    }
   },
   "source": [
    "*Note: This is not yet ready, but shows the direction I'm leaning in for Fourth Edition Search.*\n",
    "\n",
    "# State-Space Search\n",
    "\n",
    "This notebook describes several state-space search algorithms, and how they can be used to solve a variety of problems. We start with a simple algorithm and a simple domain: finding a route from city to city.  Later we will explore other algorithms and domains.\n",
    "\n",
    "## The Route-Finding Domain\n",
    "\n",
    "Like all state-space search problems, in a route-finding problem you will be given:\n",
    "- A start state (for example, `'A'` for the city Arad).\n",
    "- A goal state (for example, `'B'` for the city Bucharest).\n",
    "- Actions that can change state (for example, driving from `'A'` to `'S'`).\n",
    "\n",
    "You will be asked to find:\n",
    "- A path from the start state, through intermediate states, to the goal state.\n",
    "\n",
    "We'll use this map:\n",
    "\n",
    "<img src=\"http://robotics.cs.tamu.edu/dshell/cs625/images/map.jpg\" height=\"366\" width=\"603\">\n",
    "\n",
    "A state-space search problem can be represented by a *graph*, where the vertexes of the graph are the states of the problem (in this case, cities) and the edges of the graph are the actions (in this case, driving along a road).\n",
    "\n",
    "We'll represent a city by its single initial letter. \n",
    "We'll represent the graph of connections as a `dict` that maps each city to a list of the neighboring cities (connected by a road). For now we don't explicitly represent the actions, nor the distances\n",
    "between cities."
   ]
  },
  {
   "cell_type": "code",
   "execution_count": 1,
   "metadata": {
    "button": false,
    "new_sheet": false,
    "run_control": {
     "read_only": false
    }
   },
   "outputs": [],
   "source": [
    "romania = {\n",
    " 'A': ['Z', 'T', 'S'],\n",
    " 'B': ['F', 'P', 'G', 'U'],\n",
    " 'C': ['D', 'R', 'P'],\n",
    " 'D': ['M', 'C'],\n",
    " 'E': ['H'],\n",
    " 'F': ['S', 'B'],\n",
    " 'G': ['B'],\n",
    " 'H': ['U', 'E'],\n",
    " 'I': ['N', 'V'],\n",
    " 'L': ['T', 'M'],\n",
    " 'M': ['L', 'D'],\n",
    " 'N': ['I'],\n",
    " 'O': ['Z', 'S'],\n",
    " 'P': ['R', 'C', 'B'],\n",
    " 'R': ['S', 'C', 'P'],\n",
    " 'S': ['A', 'O', 'F', 'R'],\n",
    " 'T': ['A', 'L'],\n",
    " 'U': ['B', 'V', 'H'],\n",
    " 'V': ['U', 'I'],\n",
    " 'Z': ['O', 'A']}"
   ]
  },
  {
   "cell_type": "markdown",
   "metadata": {
    "button": false,
    "new_sheet": false,
    "run_control": {
     "read_only": false
    }
   },
   "source": [
    "Suppose we want to get from `A` to `B`. Where can we go from the start state, `A`?"
   ]
  },
  {
   "cell_type": "code",
   "execution_count": 2,
   "metadata": {
    "button": false,
    "new_sheet": false,
    "run_control": {
     "read_only": false
    }
   },
   "outputs": [
    {
     "data": {
      "text/plain": [
       "['Z', 'T', 'S']"
      ]
     },
     "execution_count": 2,
     "metadata": {},
     "output_type": "execute_result"
    }
   ],
   "source": [
    "romania['A']"
   ]
  },
  {
   "cell_type": "markdown",
   "metadata": {
    "button": false,
    "new_sheet": false,
    "run_control": {
     "read_only": false
    }
   },
   "source": [
    "We see that from `A` we can get to any of the three cities `['Z', 'T', 'S']`. Which should we choose?  *We don't know.* That's the whole point of *search*: we don't know which immediate action is best, so we'll have to explore, until we find a *path* that leads to the goal. \n",
    "\n",
    "How do we explore? We'll start with a simple algorithm that will get us from `A` to `B`. We'll keep a *frontier*&mdash;a collection of not-yet-explored states&mdash;and expand the frontier outward until it reaches the goal. To be more precise:\n",
    "\n",
    "- Initially, the only state in the frontier is the start state, `'A'`.\n",
    "- Until we reach the goal, or run out of states in the frontier to explore, do the following:\n",
    "  - Remove the first state from the frontier. Call it `s`.\n",
    "  - If `s` is the goal, we're done. Return the path to `s`.\n",
    "  - Otherwise, consider all the neighboring states of `s`. For each one:\n",
    "    - If we have not previously explored the state, add it to the end of the frontier.\n",
    "    - Also keep track of the previous state that led to this new neighboring state; we'll need this to reconstruct the path to the goal, and to keep us from re-visiting previously explored states.\n",
    "    \n",
    "# A Simple Search Algorithm: `breadth_first`\n",
    "    \n",
    "The function `breadth_first` implements this strategy:"
   ]
  },
  {
   "cell_type": "code",
   "execution_count": 3,
   "metadata": {
    "button": false,
    "new_sheet": false,
    "run_control": {
     "read_only": false
    }
   },
   "outputs": [],
   "source": [
    "from collections import deque # Doubly-ended queue: pop from left, append to right.\n",
    "\n",
    "def breadth_first(start, goal, neighbors):\n",
    "    \"Find a shortest sequence of states from start to the goal.\"\n",
    "    frontier = deque([start]) # A queue of states\n",
    "    previous = {start: None}  # start has no previous state; other states will\n",
    "    while frontier:\n",
    "        s = frontier.popleft()\n",
    "        if s == goal:\n",
    "            return path(previous, s)\n",
    "        for s2 in neighbors[s]:\n",
    "            if s2 not in previous:\n",
    "                frontier.append(s2)\n",
    "                previous[s2] = s\n",
    "                \n",
    "def path(previous, s): \n",
    "    \"Return a list of states that lead to state s, according to the previous dict.\"\n",
    "    return [] if (s is None) else path(previous, previous[s]) + [s]"
   ]
  },
  {
   "cell_type": "markdown",
   "metadata": {
    "button": false,
    "new_sheet": false,
    "run_control": {
     "read_only": false
    }
   },
   "source": [
    "A couple of things to note: \n",
    "\n",
    "1. We always add new states to the end of the frontier queue. That means that all the states that are adjacent to the start state will come first in the queue, then all the states that are two steps away, then three steps, etc.\n",
    "That's what we mean by *breadth-first* search.\n",
    "2. We recover the path to an `end` state by following the trail of `previous[end]` pointers, all the way back to `start`.\n",
    "The dict `previous` is a map of `{state: previous_state}`. \n",
    "3. When we finally get an `s` that is the goal state, we know we have found a shortest path, because any other state in the queue must correspond to a path that is as long or longer.\n",
    "3. Note that `previous`  contains all the states that are currently in `frontier` as well as all the states that were in `frontier` in the past.\n",
    "4. If no path to the goal is found, then `breadth_first` returns `None`. If a path is found, it returns the sequence of states on the path.\n",
    "\n",
    "Some examples:"
   ]
  },
  {
   "cell_type": "code",
   "execution_count": 4,
   "metadata": {
    "button": false,
    "new_sheet": false,
    "run_control": {
     "read_only": false
    }
   },
   "outputs": [
    {
     "data": {
      "text/plain": [
       "['A', 'S', 'F', 'B']"
      ]
     },
     "execution_count": 4,
     "metadata": {},
     "output_type": "execute_result"
    }
   ],
   "source": [
    "breadth_first('A', 'B', romania)"
   ]
  },
  {
   "cell_type": "code",
   "execution_count": 5,
   "metadata": {
    "button": false,
    "new_sheet": false,
    "run_control": {
     "read_only": false
    }
   },
   "outputs": [
    {
     "data": {
      "text/plain": [
       "['L', 'T', 'A', 'S', 'F', 'B', 'U', 'V', 'I', 'N']"
      ]
     },
     "execution_count": 5,
     "metadata": {},
     "output_type": "execute_result"
    }
   ],
   "source": [
    "breadth_first('L', 'N', romania)"
   ]
  },
  {
   "cell_type": "code",
   "execution_count": 6,
   "metadata": {
    "button": false,
    "new_sheet": false,
    "run_control": {
     "read_only": false
    }
   },
   "outputs": [
    {
     "data": {
      "text/plain": [
       "['N', 'I', 'V', 'U', 'B', 'F', 'S', 'A', 'T', 'L']"
      ]
     },
     "execution_count": 6,
     "metadata": {},
     "output_type": "execute_result"
    }
   ],
   "source": [
    "breadth_first('N', 'L', romania)"
   ]
  },
  {
   "cell_type": "code",
   "execution_count": 7,
   "metadata": {},
   "outputs": [
    {
     "data": {
      "text/plain": [
       "['E']"
      ]
     },
     "execution_count": 7,
     "metadata": {},
     "output_type": "execute_result"
    }
   ],
   "source": [
    "breadth_first('E', 'E', romania)"
   ]
  },
  {
   "cell_type": "markdown",
   "metadata": {
    "button": false,
    "new_sheet": false,
    "run_control": {
     "read_only": false
    }
   },
   "source": [
    "Now let's try a different  kind of problem that can be solved with the same search function.\n",
    "\n",
    "## Word Ladders Problem\n",
    "\n",
    "A *word ladder* problem is this: given a start word and a goal word, find the shortest way to transform the start word into the goal word by changing one letter at a time, such that each change results in a word. For example starting with `green` we can reach `grass` in 7 steps:\n",
    "\n",
    "`green` &rarr; `greed` &rarr; `treed` &rarr; `trees` &rarr; `tress` &rarr; `cress` &rarr; `crass` &rarr; `grass`\n",
    "\n",
    "We will need a dictionary of words. We'll use 5-letter words from the [Stanford GraphBase](http://www-cs-faculty.stanford.edu/~uno/sgb.html) project for this purpose. Let's get that file from aimadata."
   ]
  },
  {
   "cell_type": "code",
   "execution_count": 8,
   "metadata": {
    "button": false,
    "new_sheet": false,
    "run_control": {
     "read_only": false
    }
   },
   "outputs": [
    {
     "ename": "FileNotFoundError",
     "evalue": "[Errno 2] No such file or directory: 'C:\\\\Users\\\\Juan Carlos\\\\Documents\\\\Masters\\\\Intelligent Systems\\\\HW2\\\\AIMA\\\\aima-data\\\\EN-text/sgb-words.txt'",
     "output_type": "error",
     "traceback": [
      "\u001b[1;31m---------------------------------------------------------------------------\u001b[0m",
      "\u001b[1;31mFileNotFoundError\u001b[0m                         Traceback (most recent call last)",
      "\u001b[1;32m<ipython-input-8-4129c465dc0c>\u001b[0m in \u001b[0;36m<module>\u001b[1;34m\u001b[0m\n\u001b[0;32m      1\u001b[0m \u001b[1;32mfrom\u001b[0m \u001b[0msearch\u001b[0m \u001b[1;32mimport\u001b[0m \u001b[1;33m*\u001b[0m\u001b[1;33m\u001b[0m\u001b[1;33m\u001b[0m\u001b[0m\n\u001b[1;32m----> 2\u001b[1;33m \u001b[0msgb_words\u001b[0m \u001b[1;33m=\u001b[0m \u001b[0mDataFile\u001b[0m\u001b[1;33m(\u001b[0m\u001b[1;34m\"EN-text/sgb-words.txt\"\u001b[0m\u001b[1;33m)\u001b[0m\u001b[1;33m\u001b[0m\u001b[1;33m\u001b[0m\u001b[0m\n\u001b[0m",
      "\u001b[1;32m~\\Documents\\Masters\\Intelligent Systems\\HW2\\AIMA\\utils.py\u001b[0m in \u001b[0;36mDataFile\u001b[1;34m(name, mode)\u001b[0m\n\u001b[0;32m    337\u001b[0m \u001b[1;32mdef\u001b[0m \u001b[0mDataFile\u001b[0m\u001b[1;33m(\u001b[0m\u001b[0mname\u001b[0m\u001b[1;33m,\u001b[0m \u001b[0mmode\u001b[0m\u001b[1;33m=\u001b[0m\u001b[1;34m'r'\u001b[0m\u001b[1;33m)\u001b[0m\u001b[1;33m:\u001b[0m\u001b[1;33m\u001b[0m\u001b[1;33m\u001b[0m\u001b[0m\n\u001b[0;32m    338\u001b[0m     \u001b[1;34m\"Return a file in the AIMA /aima-data directory.\"\u001b[0m\u001b[1;33m\u001b[0m\u001b[1;33m\u001b[0m\u001b[0m\n\u001b[1;32m--> 339\u001b[1;33m     \u001b[1;32mreturn\u001b[0m \u001b[0mAIMAFile\u001b[0m\u001b[1;33m(\u001b[0m\u001b[1;33m[\u001b[0m\u001b[1;34m'aima-data'\u001b[0m\u001b[1;33m,\u001b[0m \u001b[0mname\u001b[0m\u001b[1;33m]\u001b[0m\u001b[1;33m,\u001b[0m \u001b[0mmode\u001b[0m\u001b[1;33m)\u001b[0m\u001b[1;33m\u001b[0m\u001b[1;33m\u001b[0m\u001b[0m\n\u001b[0m\u001b[0;32m    340\u001b[0m \u001b[1;33m\u001b[0m\u001b[0m\n\u001b[0;32m    341\u001b[0m \u001b[1;33m\u001b[0m\u001b[0m\n",
      "\u001b[1;32m~\\Documents\\Masters\\Intelligent Systems\\HW2\\AIMA\\utils.py\u001b[0m in \u001b[0;36mAIMAFile\u001b[1;34m(components, mode)\u001b[0m\n\u001b[0;32m    332\u001b[0m     \u001b[0maima_file\u001b[0m \u001b[1;33m=\u001b[0m \u001b[0mos\u001b[0m\u001b[1;33m.\u001b[0m\u001b[0mpath\u001b[0m\u001b[1;33m.\u001b[0m\u001b[0mjoin\u001b[0m\u001b[1;33m(\u001b[0m\u001b[0maima_root\u001b[0m\u001b[1;33m,\u001b[0m \u001b[1;33m*\u001b[0m\u001b[0mcomponents\u001b[0m\u001b[1;33m)\u001b[0m\u001b[1;33m\u001b[0m\u001b[1;33m\u001b[0m\u001b[0m\n\u001b[0;32m    333\u001b[0m \u001b[1;33m\u001b[0m\u001b[0m\n\u001b[1;32m--> 334\u001b[1;33m     \u001b[1;32mreturn\u001b[0m \u001b[0mopen\u001b[0m\u001b[1;33m(\u001b[0m\u001b[0maima_file\u001b[0m\u001b[1;33m)\u001b[0m\u001b[1;33m\u001b[0m\u001b[1;33m\u001b[0m\u001b[0m\n\u001b[0m\u001b[0;32m    335\u001b[0m \u001b[1;33m\u001b[0m\u001b[0m\n\u001b[0;32m    336\u001b[0m \u001b[1;33m\u001b[0m\u001b[0m\n",
      "\u001b[1;31mFileNotFoundError\u001b[0m: [Errno 2] No such file or directory: 'C:\\\\Users\\\\Juan Carlos\\\\Documents\\\\Masters\\\\Intelligent Systems\\\\HW2\\\\AIMA\\\\aima-data\\\\EN-text/sgb-words.txt'"
     ]
    }
   ],
   "source": [
    "from search import *\n",
    "sgb_words = DataFile(\"EN-text/sgb-words.txt\")"
   ]
  },
  {
   "cell_type": "markdown",
   "metadata": {
    "button": false,
    "new_sheet": false,
    "run_control": {
     "read_only": false
    }
   },
   "source": [
    "We can assign `WORDS` to be the set of all the words in this file:"
   ]
  },
  {
   "cell_type": "code",
   "execution_count": 9,
   "metadata": {
    "button": false,
    "new_sheet": false,
    "run_control": {
     "read_only": false
    }
   },
   "outputs": [
    {
     "ename": "NameError",
     "evalue": "name 'sgb_words' is not defined",
     "output_type": "error",
     "traceback": [
      "\u001b[1;31m---------------------------------------------------------------------------\u001b[0m",
      "\u001b[1;31mNameError\u001b[0m                                 Traceback (most recent call last)",
      "\u001b[1;32m<ipython-input-9-0243149d9b51>\u001b[0m in \u001b[0;36m<module>\u001b[1;34m\u001b[0m\n\u001b[1;32m----> 1\u001b[1;33m \u001b[0mWORDS\u001b[0m \u001b[1;33m=\u001b[0m \u001b[0mset\u001b[0m\u001b[1;33m(\u001b[0m\u001b[0msgb_words\u001b[0m\u001b[1;33m.\u001b[0m\u001b[0mread\u001b[0m\u001b[1;33m(\u001b[0m\u001b[1;33m)\u001b[0m\u001b[1;33m.\u001b[0m\u001b[0msplit\u001b[0m\u001b[1;33m(\u001b[0m\u001b[1;33m)\u001b[0m\u001b[1;33m)\u001b[0m\u001b[1;33m\u001b[0m\u001b[1;33m\u001b[0m\u001b[0m\n\u001b[0m\u001b[0;32m      2\u001b[0m \u001b[0mlen\u001b[0m\u001b[1;33m(\u001b[0m\u001b[0mWORDS\u001b[0m\u001b[1;33m)\u001b[0m\u001b[1;33m\u001b[0m\u001b[1;33m\u001b[0m\u001b[0m\n",
      "\u001b[1;31mNameError\u001b[0m: name 'sgb_words' is not defined"
     ]
    }
   ],
   "source": [
    "WORDS = set(sgb_words.read().split())\n",
    "len(WORDS)"
   ]
  },
  {
   "cell_type": "markdown",
   "metadata": {
    "button": false,
    "new_sheet": false,
    "run_control": {
     "read_only": false
    }
   },
   "source": [
    "And define `neighboring_words` to return the set of all words that are a one-letter change away from a given `word`:"
   ]
  },
  {
   "cell_type": "code",
   "execution_count": null,
   "metadata": {
    "button": false,
    "new_sheet": false,
    "run_control": {
     "read_only": false
    }
   },
   "outputs": [],
   "source": [
    "def neighboring_words(word):\n",
    "    \"All words that are one letter away from this word.\"\n",
    "    neighbors = {word[:i] + c + word[i+1:]\n",
    "                 for i in range(len(word))\n",
    "                 for c in 'abcdefghijklmnopqrstuvwxyz'\n",
    "                 if c != word[i]}\n",
    "    return neighbors & WORDS"
   ]
  },
  {
   "cell_type": "markdown",
   "metadata": {},
   "source": [
    "For example:"
   ]
  },
  {
   "cell_type": "code",
   "execution_count": null,
   "metadata": {
    "button": false,
    "new_sheet": false,
    "run_control": {
     "read_only": false
    }
   },
   "outputs": [],
   "source": [
    "neighboring_words('hello')"
   ]
  },
  {
   "cell_type": "code",
   "execution_count": null,
   "metadata": {},
   "outputs": [],
   "source": [
    "neighboring_words('world')"
   ]
  },
  {
   "cell_type": "markdown",
   "metadata": {
    "button": false,
    "new_sheet": false,
    "run_control": {
     "read_only": false
    }
   },
   "source": [
    "Now we can create  `word_neighbors` as a dict of `{word: {neighboring_word, ...}}`: "
   ]
  },
  {
   "cell_type": "code",
   "execution_count": null,
   "metadata": {
    "button": false,
    "new_sheet": false,
    "run_control": {
     "read_only": false
    }
   },
   "outputs": [],
   "source": [
    "word_neighbors = {word: neighboring_words(word)\n",
    "                  for word in WORDS}"
   ]
  },
  {
   "cell_type": "markdown",
   "metadata": {
    "button": false,
    "new_sheet": false,
    "run_control": {
     "read_only": false
    }
   },
   "source": [
    "Now the `breadth_first` function can be used to solve a word ladder problem:"
   ]
  },
  {
   "cell_type": "code",
   "execution_count": null,
   "metadata": {
    "button": false,
    "new_sheet": false,
    "run_control": {
     "read_only": false
    }
   },
   "outputs": [],
   "source": [
    "breadth_first('green', 'grass', word_neighbors)"
   ]
  },
  {
   "cell_type": "code",
   "execution_count": null,
   "metadata": {
    "button": false,
    "new_sheet": false,
    "run_control": {
     "read_only": false
    }
   },
   "outputs": [],
   "source": [
    "breadth_first('smart', 'brain', word_neighbors)"
   ]
  },
  {
   "cell_type": "code",
   "execution_count": null,
   "metadata": {
    "button": false,
    "new_sheet": false,
    "run_control": {
     "read_only": false
    }
   },
   "outputs": [],
   "source": [
    "breadth_first('frown', 'smile', word_neighbors)"
   ]
  },
  {
   "cell_type": "markdown",
   "metadata": {
    "button": false,
    "new_sheet": false,
    "run_control": {
     "read_only": false
    }
   },
   "source": [
    "# More General Search Algorithms\n",
    "\n",
    "Now we'll embelish the `breadth_first` algorithm to make a family of search algorithms with more capabilities:\n",
    "\n",
    "1. We distinguish between an *action* and the *result* of an action.\n",
    "3. We allow different measures of the cost of a solution (not just the number of steps in the sequence).\n",
    "4. We search through the state space in an order that is more likely to lead to an optimal solution quickly.\n",
    "\n",
    "Here's how we do these things:\n",
    "\n",
    "1. Instead of having a graph of neighboring states, we instead have an object of type *Problem*. A Problem\n",
    "has one method, `Problem.actions(state)` to return a collection of the actions that are allowed in a state,\n",
    "and another method, `Problem.result(state, action)` that says what happens when you take an action.\n",
    "2. We keep a set, `explored` of states that have already been explored. We also have a class, `Frontier`, that makes it efficient to ask if a state is on the frontier.\n",
    "3. Each action has a cost associated with it (in fact, the cost can vary with both the state and the action).\n",
    "4. The `Frontier` class acts as a priority queue, allowing the \"best\" state to be explored next.\n",
    "We represent a sequence of actions and resulting states as a linked list of `Node` objects.\n",
    "\n",
    "The algorithm `breadth_first_search` is basically the same  as `breadth_first`, but using our new conventions:"
   ]
  },
  {
   "cell_type": "code",
   "execution_count": null,
   "metadata": {
    "button": false,
    "new_sheet": false,
    "run_control": {
     "read_only": false
    }
   },
   "outputs": [],
   "source": [
    "def breadth_first_search(problem):\n",
    "    \"Search for goal; paths with least number of steps first.\"\n",
    "    if problem.is_goal(problem.initial): \n",
    "        return Node(problem.initial)\n",
    "    frontier = FrontierQ(Node(problem.initial), LIFO=False)\n",
    "    explored = set()\n",
    "    while frontier:\n",
    "        node = frontier.pop()\n",
    "        explored.add(node.state)\n",
    "        for action in problem.actions(node.state):\n",
    "            child = node.child(problem, action)\n",
    "            if child.state not in explored and child.state not in frontier:\n",
    "                if problem.is_goal(child.state):\n",
    "                    return child\n",
    "                frontier.add(child)"
   ]
  },
  {
   "cell_type": "markdown",
   "metadata": {},
   "source": [
    "Next is `uniform_cost_search`, in which each step can have a different cost, and we still consider first one os the states with minimum cost so far."
   ]
  },
  {
   "cell_type": "code",
   "execution_count": null,
   "metadata": {
    "button": false,
    "new_sheet": false,
    "run_control": {
     "read_only": false
    }
   },
   "outputs": [],
   "source": [
    "def uniform_cost_search(problem, costfn=lambda node: node.path_cost):\n",
    "    frontier = FrontierPQ(Node(problem.initial), costfn)\n",
    "    explored = set()\n",
    "    while frontier:\n",
    "        node = frontier.pop()\n",
    "        if problem.is_goal(node.state):\n",
    "            return node\n",
    "        explored.add(node.state)\n",
    "        for action in problem.actions(node.state):\n",
    "            child = node.child(problem, action)\n",
    "            if child.state not in explored and child not in frontier:\n",
    "                frontier.add(child)\n",
    "            elif child in frontier and frontier.cost[child] < child.path_cost:\n",
    "                frontier.replace(child)"
   ]
  },
  {
   "cell_type": "markdown",
   "metadata": {},
   "source": [
    "Finally, `astar_search`  in which the cost includes an estimate of the distance to the goal as well as the distance travelled so far."
   ]
  },
  {
   "cell_type": "code",
   "execution_count": null,
   "metadata": {
    "button": false,
    "new_sheet": false,
    "run_control": {
     "read_only": false
    }
   },
   "outputs": [],
   "source": [
    "def astar_search(problem, heuristic):\n",
    "    costfn = lambda node: node.path_cost + heuristic(node.state)\n",
    "    return uniform_cost_search(problem, costfn)"
   ]
  },
  {
   "cell_type": "markdown",
   "metadata": {
    "button": false,
    "new_sheet": false,
    "run_control": {
     "read_only": false
    }
   },
   "source": [
    "# Search Tree Nodes\n",
    "\n",
    "The solution to a search problem is now a linked list of `Node`s, where each `Node`\n",
    "includes a `state` and the `path_cost` of getting to the state. In addition, for every `Node` except for the first (root) `Node`, there is a previous `Node` (indicating the state that lead to this `Node`) and an `action` (indicating the action taken to get here)."
   ]
  },
  {
   "cell_type": "code",
   "execution_count": null,
   "metadata": {
    "button": false,
    "new_sheet": false,
    "run_control": {
     "read_only": false
    }
   },
   "outputs": [],
   "source": [
    "class Node(object):\n",
    "    \"\"\"A node in a search tree. A search tree is spanning tree over states.\n",
    "    A Node contains a state, the previous node in the tree, the action that\n",
    "    takes us from the previous state to this state, and the path cost to get to \n",
    "    this state. If a state is arrived at by two paths, then there are two nodes \n",
    "    with the same state.\"\"\"\n",
    "\n",
    "    def __init__(self, state, previous=None, action=None, step_cost=1):\n",
    "        \"Create a search tree Node, derived from a previous Node by an action.\"\n",
    "        self.state     = state\n",
    "        self.previous  = previous\n",
    "        self.action    = action\n",
    "        self.path_cost = 0 if previous is None else (previous.path_cost + step_cost)\n",
    "\n",
    "    def __repr__(self): return \"<Node {}: {}>\".format(self.state, self.path_cost)\n",
    "    \n",
    "    def __lt__(self, other): return self.path_cost < other.path_cost\n",
    "    \n",
    "    def child(self, problem, action):\n",
    "        \"The Node you get by taking an action from this Node.\"\n",
    "        result = problem.result(self.state, action)\n",
    "        return Node(result, self, action, \n",
    "                    problem.step_cost(self.state, action, result))    "
   ]
  },
  {
   "cell_type": "markdown",
   "metadata": {
    "button": false,
    "new_sheet": false,
    "run_control": {
     "read_only": false
    }
   },
   "source": [
    "# Frontiers\n",
    "\n",
    "A frontier is a collection of Nodes that acts like both a Queue and a Set. A frontier, `f`, supports these operations:\n",
    "\n",
    "* `f.add(node)`: Add a node to the Frontier.\n",
    "\n",
    "* `f.pop()`: Remove and return the \"best\" node from the frontier.\n",
    "\n",
    "* `f.replace(node)`: add this node and remove a previous node with the same state.\n",
    "\n",
    "* `state in f`: Test if some node in the frontier has arrived at state.\n",
    "\n",
    "* `f[state]`: returns the node corresponding to this state in frontier.\n",
    "\n",
    "* `len(f)`: The number of Nodes in the frontier. When the frontier is empty, `f` is *false*.\n",
    "\n",
    "We provide two kinds of frontiers: One for \"regular\" queues, either first-in-first-out (for breadth-first search) or last-in-first-out (for depth-first search), and one for priority queues, where you can specify what cost function on nodes you are trying to minimize."
   ]
  },
  {
   "cell_type": "code",
   "execution_count": null,
   "metadata": {
    "button": false,
    "new_sheet": false,
    "run_control": {
     "read_only": false
    }
   },
   "outputs": [],
   "source": [
    "from collections import OrderedDict\n",
    "import heapq\n",
    "\n",
    "class FrontierQ(OrderedDict):\n",
    "    \"A Frontier that supports FIFO or LIFO Queue ordering.\"\n",
    "    \n",
    "    def __init__(self, initial, LIFO=False):\n",
    "        \"\"\"Initialize Frontier with an initial Node.\n",
    "        If LIFO is True, pop from the end first; otherwise from front first.\"\"\"\n",
    "        self.LIFO = LIFO\n",
    "        self.add(initial)\n",
    "    \n",
    "    def add(self, node):\n",
    "        \"Add a node to the frontier.\"\n",
    "        self[node.state] = node\n",
    "        \n",
    "    def pop(self):\n",
    "        \"Remove and return the next Node in the frontier.\"\n",
    "        (state, node) = self.popitem(self.LIFO)\n",
    "        return node\n",
    "    \n",
    "    def replace(self, node):\n",
    "        \"Make this node replace the nold node with the same state.\"\n",
    "        del self[node.state]\n",
    "        self.add(node)"
   ]
  },
  {
   "cell_type": "code",
   "execution_count": null,
   "metadata": {
    "button": false,
    "new_sheet": false,
    "run_control": {
     "read_only": false
    }
   },
   "outputs": [],
   "source": [
    "class FrontierPQ:\n",
    "    \"A Frontier ordered by a cost function; a Priority Queue.\"\n",
    "    \n",
    "    def __init__(self, initial, costfn=lambda node: node.path_cost):\n",
    "        \"Initialize Frontier with an initial Node, and specify a cost function.\"\n",
    "        self.heap   = []\n",
    "        self.states = {}\n",
    "        self.costfn = costfn\n",
    "        self.add(initial)\n",
    "    \n",
    "    def add(self, node):\n",
    "        \"Add node to the frontier.\"\n",
    "        cost = self.costfn(node)\n",
    "        heapq.heappush(self.heap, (cost, node))\n",
    "        self.states[node.state] = node\n",
    "        \n",
    "    def pop(self):\n",
    "        \"Remove and return the Node with minimum cost.\"\n",
    "        (cost, node) = heapq.heappop(self.heap)\n",
    "        self.states.pop(node.state, None) # remove state\n",
    "        return node\n",
    "    \n",
    "    def replace(self, node):\n",
    "        \"Make this node replace a previous node with the same state.\"\n",
    "        if node.state not in self:\n",
    "            raise ValueError('{} not there to replace'.format(node.state))\n",
    "        for (i, (cost, old_node)) in enumerate(self.heap):\n",
    "            if old_node.state == node.state:\n",
    "                self.heap[i] = (self.costfn(node), node)\n",
    "                heapq._siftdown(self.heap, 0, i)\n",
    "                return\n",
    "\n",
    "    def __contains__(self, state): return state in self.states\n",
    "    \n",
    "    def __len__(self): return len(self.heap)"
   ]
  },
  {
   "cell_type": "markdown",
   "metadata": {
    "button": false,
    "new_sheet": false,
    "run_control": {
     "read_only": false
    }
   },
   "source": [
    "# Search Problems\n",
    "\n",
    "`Problem` is the abstract class for all search problems. You can define your own class of problems as a subclass of `Problem`. You will need to override the `actions` and  `result` method to describe how your problem works. You will also have to either override `is_goal` or pass a collection of goal states to the initialization method.  If actions have different costs, you should override the `step_cost` method. "
   ]
  },
  {
   "cell_type": "code",
   "execution_count": null,
   "metadata": {
    "button": false,
    "new_sheet": false,
    "run_control": {
     "read_only": false
    }
   },
   "outputs": [],
   "source": [
    "class Problem(object):\n",
    "    \"\"\"The abstract class for a search problem.\"\"\"\n",
    "\n",
    "    def __init__(self, initial=None, goals=(), **additional_keywords):\n",
    "        \"\"\"Provide an initial state and optional goal states.\n",
    "        A subclass can have additional keyword arguments.\"\"\"\n",
    "        self.initial = initial  # The initial state of the problem.\n",
    "        self.goals = goals      # A collection of possibe goal states.\n",
    "        self.__dict__.update(**additional_keywords)\n",
    "\n",
    "    def actions(self, state):\n",
    "        \"Return a list of actions executable in this state.\"\n",
    "        raise NotImplementedError # Override this!\n",
    "\n",
    "    def result(self, state, action):\n",
    "        \"The state that results from executing this action in this state.\"\n",
    "        raise NotImplementedError # Override this!\n",
    "\n",
    "    def is_goal(self, state):\n",
    "        \"True if the state is a goal.\" \n",
    "        return state in self.goals # Optionally override this!\n",
    "\n",
    "    def step_cost(self, state, action, result=None):\n",
    "        \"The cost of taking this action from this state.\"\n",
    "        return 1 # Override this if actions have different costs        "
   ]
  },
  {
   "cell_type": "code",
   "execution_count": null,
   "metadata": {},
   "outputs": [],
   "source": [
    "def action_sequence(node):\n",
    "    \"The sequence of actions to get to this node.\"\n",
    "    actions = []\n",
    "    while node.previous:\n",
    "        actions.append(node.action)\n",
    "        node = node.previous\n",
    "    return actions[::-1]\n",
    "\n",
    "def state_sequence(node):\n",
    "    \"The sequence of states to get to this node.\"\n",
    "    states = [node.state]\n",
    "    while node.previous:\n",
    "        node = node.previous\n",
    "        states.append(node.state)\n",
    "    return states[::-1]"
   ]
  },
  {
   "cell_type": "markdown",
   "metadata": {
    "button": false,
    "new_sheet": false,
    "run_control": {
     "read_only": false
    }
   },
   "source": [
    "# Two Location Vacuum World"
   ]
  },
  {
   "cell_type": "code",
   "execution_count": null,
   "metadata": {
    "button": false,
    "new_sheet": false,
    "run_control": {
     "read_only": false
    }
   },
   "outputs": [],
   "source": [
    "dirt  = '*'\n",
    "clean = ' '\n",
    "\n",
    "class TwoLocationVacuumProblem(Problem):\n",
    "    \"\"\"A Vacuum in a world with two locations, and dirt.\n",
    "    Each state is a tuple of (location, dirt_in_W, dirt_in_E).\"\"\"\n",
    "\n",
    "    def actions(self, state): return ('W', 'E', 'Suck')\n",
    "    \n",
    "    def is_goal(self, state): return dirt not in state\n",
    " \n",
    "    def result(self, state, action):\n",
    "        \"The state that results from executing this action in this state.\"        \n",
    "        (loc, dirtW, dirtE) = state\n",
    "        if   action == 'W':                   return ('W', dirtW, dirtE)\n",
    "        elif action == 'E':                   return ('E', dirtW, dirtE)\n",
    "        elif action == 'Suck' and loc == 'W': return (loc, clean, dirtE)\n",
    "        elif action == 'Suck' and loc == 'E': return (loc, dirtW, clean) \n",
    "        else: raise ValueError('unknown action: ' + action)"
   ]
  },
  {
   "cell_type": "code",
   "execution_count": null,
   "metadata": {
    "button": false,
    "new_sheet": false,
    "run_control": {
     "read_only": false
    }
   },
   "outputs": [],
   "source": [
    "problem = TwoLocationVacuumProblem(initial=('W', dirt, dirt))\n",
    "result = uniform_cost_search(problem)\n",
    "result"
   ]
  },
  {
   "cell_type": "code",
   "execution_count": null,
   "metadata": {},
   "outputs": [],
   "source": [
    "action_sequence(result)"
   ]
  },
  {
   "cell_type": "code",
   "execution_count": null,
   "metadata": {},
   "outputs": [],
   "source": [
    "state_sequence(result)"
   ]
  },
  {
   "cell_type": "code",
   "execution_count": null,
   "metadata": {
    "button": false,
    "new_sheet": false,
    "run_control": {
     "read_only": false
    }
   },
   "outputs": [],
   "source": [
    "problem = TwoLocationVacuumProblem(initial=('E', clean, dirt))\n",
    "result = uniform_cost_search(problem)\n",
    "action_sequence(result)"
   ]
  },
  {
   "cell_type": "markdown",
   "metadata": {
    "button": false,
    "new_sheet": false,
    "run_control": {
     "read_only": false
    }
   },
   "source": [
    "# Water Pouring Problem\n",
    "\n",
    "Here is another problem domain, to show you how to define one. The idea is that we have a number of water jugs and a water tap and the goal is to measure out a specific amount of water (in, say, ounces or liters). You can completely fill or empty a jug, but because the jugs don't have markings on them, you can't partially fill them with a specific amount. You can, however, pour one jug into another, stopping when the seconfd is full or the first is empty."
   ]
  },
  {
   "cell_type": "code",
   "execution_count": null,
   "metadata": {
    "button": false,
    "new_sheet": false,
    "run_control": {
     "read_only": false
    }
   },
   "outputs": [],
   "source": [
    "class PourProblem(Problem):\n",
    "    \"\"\"Problem about pouring water between jugs to achieve some water level.\n",
    "    Each state is a tuples of levels. In the initialization, provide a tuple of \n",
    "    capacities, e.g. PourProblem(capacities=(8, 16, 32), initial=(2, 4, 3), goals={7}), \n",
    "    which means three jugs of capacity 8, 16, 32, currently filled with 2, 4, 3 units of \n",
    "    water, respectively, and the goal is to get a level of 7 in any one of the jugs.\"\"\"\n",
    "    \n",
    "    def actions(self, state):\n",
    "        \"\"\"The actions executable in this state.\"\"\"\n",
    "        jugs = range(len(state))\n",
    "        return ([('Fill', i)    for i in jugs if state[i] != self.capacities[i]] +\n",
    "                [('Dump', i)    for i in jugs if state[i] != 0] +\n",
    "                [('Pour', i, j) for i in jugs for j in jugs if i != j])\n",
    "\n",
    "    def result(self, state, action):\n",
    "        \"\"\"The state that results from executing this action in this state.\"\"\"\n",
    "        result = list(state)\n",
    "        act, i, j = action[0], action[1], action[-1]\n",
    "        if act == 'Fill': # Fill i to capacity\n",
    "            result[i] = self.capacities[i]\n",
    "        elif act == 'Dump': # Empty i\n",
    "            result[i] = 0\n",
    "        elif act == 'Pour':\n",
    "            a, b = state[i], state[j]\n",
    "            result[i], result[j] = ((0, a + b) \n",
    "                                    if (a + b <= self.capacities[j]) else\n",
    "                                    (a + b - self.capacities[j], self.capacities[j]))\n",
    "        else:\n",
    "            raise ValueError('unknown action', action)\n",
    "        return tuple(result)\n",
    "\n",
    "    def is_goal(self, state):\n",
    "        \"\"\"True if any of the jugs has a level equal to one of the goal levels.\"\"\"\n",
    "        return any(level in self.goals for level in state)"
   ]
  },
  {
   "cell_type": "code",
   "execution_count": null,
   "metadata": {
    "button": false,
    "new_sheet": false,
    "run_control": {
     "read_only": false
    }
   },
   "outputs": [],
   "source": [
    "p7 = PourProblem(initial=(2, 0), capacities=(5, 13), goals={7})\n",
    "p7.result((2, 0),  ('Fill', 1))"
   ]
  },
  {
   "cell_type": "code",
   "execution_count": null,
   "metadata": {
    "button": false,
    "new_sheet": false,
    "run_control": {
     "read_only": false
    }
   },
   "outputs": [],
   "source": [
    "result = uniform_cost_search(p7)\n",
    "action_sequence(result)"
   ]
  },
  {
   "cell_type": "markdown",
   "metadata": {
    "button": false,
    "new_sheet": false,
    "run_control": {
     "read_only": false
    }
   },
   "source": [
    "# Visualization Output"
   ]
  },
  {
   "cell_type": "code",
   "execution_count": 10,
   "metadata": {
    "button": false,
    "new_sheet": false,
    "run_control": {
     "read_only": false
    }
   },
   "outputs": [],
   "source": [
    "def showpath(searcher, problem):\n",
    "    \"Show what happens when searcvher solves problem.\"\n",
    "    problem = Instrumented(problem)\n",
    "    print('\\n{}:'.format(searcher.__name__))\n",
    "    result = searcher(problem)\n",
    "    if result:\n",
    "        actions = action_sequence(result)\n",
    "        state = problem.initial\n",
    "        path_cost = 0\n",
    "        for steps, action in enumerate(actions, 1):\n",
    "            path_cost += problem.step_cost(state, action, 0)\n",
    "            result = problem.result(state, action)\n",
    "            print('  {} =={}==> {}; cost {} after {} steps'\n",
    "                  .format(state, action, result, path_cost, steps,\n",
    "                          '; GOAL!' if problem.is_goal(result) else ''))\n",
    "            state = result\n",
    "    msg = 'GOAL FOUND' if result else 'no solution'\n",
    "    print('{} after {} results and {} goal checks'\n",
    "          .format(msg, problem._counter['result'], problem._counter['is_goal']))\n",
    "        \n",
    "from collections import Counter\n",
    "\n",
    "class Instrumented:\n",
    "    \"Instrument an object to count all the attribute accesses in _counter.\"\n",
    "    def __init__(self, obj):\n",
    "        self._object = obj\n",
    "        self._counter = Counter()\n",
    "    def __getattr__(self, attr):\n",
    "        self._counter[attr] += 1\n",
    "        return getattr(self._object, attr)    "
   ]
  },
  {
   "cell_type": "code",
   "execution_count": 11,
   "metadata": {
    "button": false,
    "new_sheet": false,
    "run_control": {
     "read_only": false
    }
   },
   "outputs": [
    {
     "ename": "NameError",
     "evalue": "name 'p7' is not defined",
     "output_type": "error",
     "traceback": [
      "\u001b[1;31m---------------------------------------------------------------------------\u001b[0m",
      "\u001b[1;31mNameError\u001b[0m                                 Traceback (most recent call last)",
      "\u001b[1;32m<ipython-input-11-63262461d41f>\u001b[0m in \u001b[0;36m<module>\u001b[1;34m\u001b[0m\n\u001b[1;32m----> 1\u001b[1;33m \u001b[0mshowpath\u001b[0m\u001b[1;33m(\u001b[0m\u001b[0muniform_cost_search\u001b[0m\u001b[1;33m,\u001b[0m \u001b[0mp7\u001b[0m\u001b[1;33m)\u001b[0m\u001b[1;33m\u001b[0m\u001b[1;33m\u001b[0m\u001b[0m\n\u001b[0m",
      "\u001b[1;31mNameError\u001b[0m: name 'p7' is not defined"
     ]
    }
   ],
   "source": [
    "showpath(uniform_cost_search, p7)"
   ]
  },
  {
   "cell_type": "code",
   "execution_count": null,
   "metadata": {},
   "outputs": [],
   "source": [
    "p = PourProblem(initial=(0, 0), capacities=(7, 13), goals={2})\n",
    "showpath(uniform_cost_search, p)"
   ]
  },
  {
   "cell_type": "code",
   "execution_count": null,
   "metadata": {},
   "outputs": [],
   "source": [
    "class GreenPourProblem(PourProblem):    \n",
    "    def step_cost(self, state, action, result=None):\n",
    "        \"The cost is the amount of water used in a fill.\"\n",
    "        if action[0] == 'Fill':\n",
    "            i = action[1]\n",
    "            return self.capacities[i] - state[i]\n",
    "        return 0"
   ]
  },
  {
   "cell_type": "code",
   "execution_count": null,
   "metadata": {},
   "outputs": [],
   "source": [
    "p = GreenPourProblem(initial=(0, 0), capacities=(7, 13), goals={2})\n",
    "showpath(uniform_cost_search, p)"
   ]
  },
  {
   "cell_type": "code",
   "execution_count": null,
   "metadata": {
    "button": false,
    "new_sheet": false,
    "run_control": {
     "read_only": false
    }
   },
   "outputs": [],
   "source": [
    "def compare_searchers(problem, searchers=None):\n",
    "    \"Apply each of the search algorithms to the problem, and show results\"\n",
    "    if searchers is None: \n",
    "        searchers = (breadth_first_search, uniform_cost_search)\n",
    "    for searcher in searchers:\n",
    "        showpath(searcher, problem)"
   ]
  },
  {
   "cell_type": "code",
   "execution_count": null,
   "metadata": {
    "button": false,
    "new_sheet": false,
    "run_control": {
     "read_only": false
    }
   },
   "outputs": [],
   "source": [
    "compare_searchers(p)"
   ]
  },
  {
   "cell_type": "markdown",
   "metadata": {},
   "source": [
    "# Random Grid\n",
    "\n",
    "An environment where you can move in any of 4 directions, unless there is an obstacle there.\n",
    "\n",
    "\n",
    "\n"
   ]
  },
  {
   "cell_type": "code",
   "execution_count": 21,
   "metadata": {},
   "outputs": [
    {
     "data": {
      "text/plain": [
       "{(0, 0): [(1, 0)],\n",
       " (0, 1): [(0, 2), (1, 1)],\n",
       " (0, 2): [(0, 3), (1, 2)],\n",
       " (0, 3): [(0, 4), (0, 2), (1, 3)],\n",
       " (0, 4): [(0, 3), (1, 4)],\n",
       " (1, 0): [(1, 1), (2, 0)],\n",
       " (1, 1): [(1, 2), (1, 0), (2, 1)],\n",
       " (1, 2): [(1, 3), (1, 1), (2, 2), (0, 2)],\n",
       " (1, 3): [(1, 4), (1, 2), (2, 3), (0, 3)],\n",
       " (1, 4): [(1, 3), (2, 4), (0, 4)],\n",
       " (2, 0): [(2, 1), (3, 0), (1, 0)],\n",
       " (2, 1): [(2, 2), (2, 0), (3, 1), (1, 1)],\n",
       " (2, 2): [(2, 3), (2, 1), (3, 2), (1, 2)],\n",
       " (2, 3): [(2, 4), (2, 2), (3, 3), (1, 3)],\n",
       " (2, 4): [(2, 3), (3, 4), (1, 4)],\n",
       " (3, 0): [(3, 1), (4, 0), (2, 0)],\n",
       " (3, 1): [(3, 2), (3, 0), (4, 1), (2, 1)],\n",
       " (3, 2): [(3, 3), (3, 1), (4, 2), (2, 2)],\n",
       " (3, 3): [(3, 4), (3, 2), (4, 3), (2, 3)],\n",
       " (3, 4): [(3, 3), (4, 4), (2, 4)],\n",
       " (4, 0): [(4, 1), (3, 0)],\n",
       " (4, 1): [(4, 2), (4, 0), (3, 1)],\n",
       " (4, 2): [(4, 3), (4, 1), (3, 2)],\n",
       " (4, 3): [(4, 4), (4, 2), (3, 3)],\n",
       " (4, 4): [(4, 3), (3, 4)]}"
      ]
     },
     "execution_count": 21,
     "metadata": {},
     "output_type": "execute_result"
    }
   ],
   "source": [
    "import random\n",
    "\n",
    "N, S, E, W = DIRECTIONS = [(0, 1), (0, -1), (1, 0), (-1, 0)]\n",
    "\n",
    "def Grid(width, height, obstacles=0.1):\n",
    "    \"\"\"A 2-D grid, width x height, with obstacles that are either a collection of points,\n",
    "    or a fraction between 0 and 1 indicating the density of obstacles, chosen at random.\"\"\"\n",
    "    grid = {(x, y) for x in range(width) for y in range(height)}\n",
    "    if isinstance(obstacles, (float, int)):\n",
    "        obstacles = random.sample(grid, int(width * height * obstacles))\n",
    "    def neighbors(x, y):\n",
    "        for (dx, dy) in DIRECTIONS:\n",
    "            (nx, ny) = (x + dx, y + dy)\n",
    "            if (nx, ny) not in obstacles and 0 <= nx < width and 0 <= ny < height:\n",
    "                yield (nx, ny)\n",
    "    return {(x, y): list(neighbors(x, y))\n",
    "            for x in range(width) for y in range(height)}\n",
    "\n",
    "Grid(5, 5)"
   ]
  },
  {
   "cell_type": "code",
   "execution_count": 14,
   "metadata": {},
   "outputs": [],
   "source": [
    "class GridProblem(Problem):\n",
    "    \"Create with a call like GridProblem(grid=Grid(10, 10), initial=(0, 0), goal=(9, 9))\"\n",
    "    def actions(self, state): return DIRECTIONS\n",
    "    def result(self, state, action):\n",
    "        #print('ask for result of', state, action)\n",
    "        (x, y) = state\n",
    "        (dx, dy) = action\n",
    "        r = (x + dx, y + dy)\n",
    "        return r if r in self.grid[state] else state"
   ]
  },
  {
   "cell_type": "code",
   "execution_count": null,
   "metadata": {},
   "outputs": [],
   "source": [
    "gp = GridProblem(grid=Grid(5, 5, 0.3), initial=(0, 0), goals={(4, 4)})\n",
    "showpath(uniform_cost_search, gp)\n"
   ]
  },
  {
   "cell_type": "markdown",
   "metadata": {
    "button": false,
    "new_sheet": false,
    "run_control": {
     "read_only": false
    }
   },
   "source": [
    "# Finding a hard PourProblem\n",
    "\n",
    "What solvable two-jug PourProblem requires the most steps? We can define the hardness as the number of steps, and then iterate over all PourProblems with capacities up to size M, keeping the hardest one."
   ]
  },
  {
   "cell_type": "code",
   "execution_count": null,
   "metadata": {
    "button": false,
    "new_sheet": false,
    "run_control": {
     "read_only": false
    }
   },
   "outputs": [],
   "source": [
    "def hardness(problem):\n",
    "    L = breadth_first_search(problem)\n",
    "    #print('hardness', problem.initial, problem.capacities, problem.goals, L)\n",
    "    return len(action_sequence(L)) if (L is not None) else 0"
   ]
  },
  {
   "cell_type": "code",
   "execution_count": null,
   "metadata": {
    "button": false,
    "new_sheet": false,
    "run_control": {
     "read_only": false
    }
   },
   "outputs": [],
   "source": [
    "hardness(p7)"
   ]
  },
  {
   "cell_type": "code",
   "execution_count": null,
   "metadata": {},
   "outputs": [],
   "source": [
    "action_sequence(breadth_first_search(p7))"
   ]
  },
  {
   "cell_type": "code",
   "execution_count": null,
   "metadata": {
    "button": false,
    "new_sheet": false,
    "run_control": {
     "read_only": false
    }
   },
   "outputs": [],
   "source": [
    "C = 9 # Maximum capacity to consider\n",
    "\n",
    "phard = max((PourProblem(initial=(a, b), capacities=(A, B), goals={goal})\n",
    "             for A in range(C+1) for B in range(C+1)\n",
    "             for a in range(A) for b in range(B)\n",
    "             for goal in range(max(A, B))),\n",
    "            key=hardness)\n",
    "\n",
    "phard.initial, phard.capacities, phard.goals"
   ]
  },
  {
   "cell_type": "code",
   "execution_count": null,
   "metadata": {},
   "outputs": [],
   "source": [
    "showpath(breadth_first_search, PourProblem(initial=(0, 0), capacities=(7, 9), goals={8}))"
   ]
  },
  {
   "cell_type": "code",
   "execution_count": null,
   "metadata": {
    "button": false,
    "new_sheet": false,
    "run_control": {
     "read_only": false
    }
   },
   "outputs": [],
   "source": [
    "showpath(uniform_cost_search, phard)"
   ]
  },
  {
   "cell_type": "code",
   "execution_count": null,
   "metadata": {
    "button": false,
    "new_sheet": false,
    "run_control": {
     "read_only": false
    }
   },
   "outputs": [],
   "source": [
    "class GridProblem(Problem):\n",
    "    \"\"\"A Grid.\"\"\"\n",
    "\n",
    "    def actions(self, state): return ['N', 'S', 'E', 'W']        \n",
    " \n",
    "    def result(self, state, action):\n",
    "        \"\"\"The state that results from executing this action in this state.\"\"\"  \n",
    "        (W, H) = self.size\n",
    "        if action == 'N' and state > W:           return state - W\n",
    "        if action == 'S' and state + W < W * W:   return state + W\n",
    "        if action == 'E' and (state + 1) % W !=0: return state + 1\n",
    "        if action == 'W' and state % W != 0:      return state - 1\n",
    "        return state"
   ]
  },
  {
   "cell_type": "code",
   "execution_count": null,
   "metadata": {
    "button": false,
    "new_sheet": false,
    "run_control": {
     "read_only": false
    }
   },
   "outputs": [],
   "source": [
    "compare_searchers(GridProblem(initial=0, goals={44}, size=(10, 10)))"
   ]
  },
  {
   "cell_type": "code",
   "execution_count": null,
   "metadata": {
    "button": false,
    "new_sheet": false,
    "run_control": {
     "read_only": false
    }
   },
   "outputs": [],
   "source": [
    "def test_frontier():\n",
    "    \n",
    "    #### Breadth-first search with FIFO Q\n",
    "    f = FrontierQ(Node(1), LIFO=False)\n",
    "    assert 1 in f and len(f) == 1\n",
    "    f.add(Node(2))\n",
    "    f.add(Node(3))\n",
    "    assert 1 in f and 2 in f and 3 in f and len(f) == 3\n",
    "    assert f.pop().state == 1\n",
    "    assert 1 not in f and 2 in f and 3 in f and len(f) == 2\n",
    "    assert f\n",
    "    assert f.pop().state == 2\n",
    "    assert f.pop().state == 3\n",
    "    assert not f\n",
    "    \n",
    "    #### Depth-first search with LIFO Q\n",
    "    f = FrontierQ(Node('a'), LIFO=True)\n",
    "    for s in 'bcdef': f.add(Node(s))\n",
    "    assert len(f) == 6 and 'a' in f and 'c' in f and 'f' in f\n",
    "    for s in 'fedcba': assert f.pop().state == s\n",
    "    assert not f\n",
    "\n",
    "    #### Best-first search with Priority Q\n",
    "    f = FrontierPQ(Node(''), lambda node: len(node.state))\n",
    "    assert '' in f and len(f) == 1 and f\n",
    "    for s in ['book', 'boo', 'bookie', 'bookies', 'cook', 'look', 'b']:\n",
    "        assert s not in f\n",
    "        f.add(Node(s))\n",
    "        assert s in f\n",
    "    assert f.pop().state == ''\n",
    "    assert f.pop().state == 'b'\n",
    "    assert f.pop().state == 'boo'\n",
    "    assert {f.pop().state for _ in '123'} == {'book', 'cook', 'look'}\n",
    "    assert f.pop().state == 'bookie'\n",
    "    \n",
    "    #### Romania: Two paths to Bucharest; cheapest one found first\n",
    "    S    = Node('S')\n",
    "    SF   = Node('F', S, 'S->F', 99)\n",
    "    SFB  = Node('B', SF, 'F->B', 211)\n",
    "    SR   = Node('R', S, 'S->R', 80)\n",
    "    SRP  = Node('P', SR, 'R->P', 97)\n",
    "    SRPB = Node('B', SRP, 'P->B', 101)\n",
    "    f = FrontierPQ(S)\n",
    "    f.add(SF); f.add(SR), f.add(SRP), f.add(SRPB); f.add(SFB)\n",
    "    def cs(n): return (n.path_cost, n.state) # cs: cost and state\n",
    "    assert cs(f.pop()) == (0, 'S')\n",
    "    assert cs(f.pop()) == (80, 'R')\n",
    "    assert cs(f.pop()) == (99, 'F')\n",
    "    assert cs(f.pop()) == (177, 'P')\n",
    "    assert cs(f.pop()) == (278, 'B')\n",
    "    return 'test_frontier ok'\n",
    "\n",
    "test_frontier()"
   ]
  },
  {
   "cell_type": "code",
   "execution_count": null,
   "metadata": {
    "button": false,
    "new_sheet": false,
    "run_control": {
     "read_only": false
    }
   },
   "outputs": [],
   "source": [
    "%matplotlib inline\n",
    "import matplotlib.pyplot as plt\n",
    "\n",
    "p = plt.plot([i**2 for i in range(10)])\n",
    "plt.savefig('destination_path.eps', format='eps', dpi=1200)"
   ]
  },
  {
   "cell_type": "code",
   "execution_count": null,
   "metadata": {
    "button": false,
    "new_sheet": false,
    "run_control": {
     "read_only": false
    }
   },
   "outputs": [],
   "source": [
    "import itertools\n",
    "import random\n",
    "# http://stackoverflow.com/questions/10194482/custom-matplotlib-plot-chess-board-like-table-with-colored-cells\n",
    "\n",
    "from matplotlib.table import Table\n",
    "\n",
    "def main():\n",
    "    grid_table(8, 8)\n",
    "    plt.axis('scaled')\n",
    "    plt.show()\n",
    "\n",
    "def grid_table(nrows, ncols):\n",
    "    fig, ax = plt.subplots()\n",
    "    ax.set_axis_off()\n",
    "    colors = ['white', 'lightgrey', 'dimgrey']\n",
    "    tb = Table(ax, bbox=[0,0,2,2])\n",
    "    for i,j in itertools.product(range(ncols), range(nrows)):\n",
    "        tb.add_cell(i, j, 2./ncols, 2./nrows, text='{:0.2f}'.format(0.1234), \n",
    "                    loc='center', facecolor=random.choice(colors), edgecolor='grey') # facecolors=\n",
    "    ax.add_table(tb)\n",
    "    #ax.plot([0, .3], [.2, .2])\n",
    "    #ax.add_line(plt.Line2D([0.3, 0.5], [0.7, 0.7], linewidth=2, color='blue'))\n",
    "    return fig\n",
    "\n",
    "main()"
   ]
  },
  {
   "cell_type": "code",
   "execution_count": null,
   "metadata": {},
   "outputs": [],
   "source": [
    "import collections\n",
    "class defaultkeydict(collections.defaultdict):\n",
    "    \"\"\"Like defaultdict, but the default_factory is a function of the key.\n",
    "    >>> d = defaultkeydict(abs); d[-42]\n",
    "    42\n",
    "    \"\"\"\n",
    "    def __missing__(self, key):\n",
    "        self[key] = self.default_factory(key)\n",
    "        return self[key]"
   ]
  },
  {
   "cell_type": "code",
   "execution_count": null,
   "metadata": {},
   "outputs": [],
   "source": []
  }
 ],
 "metadata": {
  "kernelspec": {
   "display_name": "Python 3",
   "language": "python",
   "name": "python3"
  },
  "language_info": {
   "codemirror_mode": {
    "name": "ipython",
    "version": 3
   },
   "file_extension": ".py",
   "mimetype": "text/x-python",
   "name": "python",
   "nbconvert_exporter": "python",
   "pygments_lexer": "ipython3",
   "version": "3.7.3"
  }
 },
 "nbformat": 4,
 "nbformat_minor": 1
}
